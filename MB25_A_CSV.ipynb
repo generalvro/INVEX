{
  "cells": [
    {
      "cell_type": "markdown",
      "metadata": {
        "id": "view-in-github",
        "colab_type": "text"
      },
      "source": [
        "<a href=\"https://colab.research.google.com/github/generalvro/INVEX/blob/main/MB25_A_CSV.ipynb\" target=\"_parent\"><img src=\"https://colab.research.google.com/assets/colab-badge.svg\" alt=\"Open In Colab\"/></a>"
      ]
    },
    {
      "cell_type": "code",
      "source": [
        "# 1. Instalar librerías necesarias\n",
        "!pip install pandas openpyxl xlrd pytz\n",
        "\n",
        "import pandas as pd\n",
        "from google.colab import files\n",
        "from datetime import datetime\n",
        "import pytz\n",
        "\n",
        "# 2. Subir archivo manualmente\n",
        "print(\"📂 Selecciona tu archivo .xls\")\n",
        "uploaded = files.upload()\n",
        "\n",
        "# Tomar el nombre del archivo subido\n",
        "archivo = list(uploaded.keys())[0]\n",
        "\n",
        "# 3. Leer el archivo asegurando que I,J,K sean string\n",
        "# Columnas: I=8, J=9, K=10, O=14, R=17 (índices basados en 0)\n",
        "columnas_texto = {8: str, 9: str, 10: str}\n",
        "df = pd.read_excel(archivo, dtype=columnas_texto)\n",
        "\n",
        "# 4. Reemplazar comas por puntos en columnas I, J, K\n",
        "for col in df.columns[[8, 9, 10]]:\n",
        "    df[col] = df[col].astype(str).str.replace(\",\", \".\", regex=False)\n",
        "\n",
        "# 5. Convertir fechas en O (14) y R (17) a formato YYYY-MM-DD\n",
        "for col in df.columns[[14, 17]]:\n",
        "    df[col] = pd.to_datetime(df[col], dayfirst=True, errors=\"coerce\").dt.strftime(\"%Y-%m-%d\")\n",
        "\n",
        "# 6. Crear nombre dinámico con la fecha actual de Colombia\n",
        "tz = pytz.timezone(\"America/Bogota\")\n",
        "fecha_hoy = datetime.now(tz).strftime(\"%d_%m_%Y\")\n",
        "nombre_salida = f\"MB25_{fecha_hoy}.csv\"\n",
        "\n",
        "# 7. Guardar el CSV con separador \";\"\n",
        "df.to_csv(nombre_salida, sep=\";\", index=False, encoding=\"utf-8\")\n",
        "\n",
        "print(f\"✅ Archivo limpio generado: {nombre_salida}\")\n",
        "\n",
        "# 8. Descargar el archivo generado\n",
        "files.download(nombre_salida)\n"
      ],
      "metadata": {
        "id": "JpJGN2oSwpEe"
      },
      "execution_count": null,
      "outputs": []
    }
  ],
  "metadata": {
    "colab": {
      "name": "Te damos la bienvenida a Colaboratory",
      "provenance": [],
      "include_colab_link": true
    },
    "kernelspec": {
      "display_name": "Python 3",
      "name": "python3"
    }
  },
  "nbformat": 4,
  "nbformat_minor": 0
}