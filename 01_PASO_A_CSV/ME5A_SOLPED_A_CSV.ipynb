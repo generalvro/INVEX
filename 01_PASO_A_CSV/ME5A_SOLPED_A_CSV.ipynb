{
  "cells": [
    {
      "cell_type": "markdown",
      "metadata": {
        "id": "view-in-github",
        "colab_type": "text"
      },
      "source": [
        "<a href=\"https://colab.research.google.com/github/generalvro/INVEX/blob/main/ME5A_SOLPED_A_CSV.ipynb\" target=\"_parent\"><img src=\"https://colab.research.google.com/assets/colab-badge.svg\" alt=\"Open In Colab\"/></a>"
      ]
    },
    {
      "cell_type": "code",
      "source": [
        "# 1. Subir archivo manualmente\n",
        "from google.colab import files\n",
        "import pandas as pd\n",
        "from datetime import datetime\n",
        "import pytz\n",
        "\n",
        "uploaded = files.upload()  # Aquí seleccionas tu .xlsx\n",
        "nombre_archivo = list(uploaded.keys())[0]\n",
        "\n",
        "# 2. Leer Excel como texto\n",
        "df = pd.read_excel(nombre_archivo, dtype=str)\n",
        "df = df.astype(str)  # asegurar que todas las columnas son texto\n",
        "\n",
        "# 3. Reemplazar comas por puntos en columnas G, Q, R, AB\n",
        "columnas_numericas = [\"Cantidad pedida\", \"Precio de valoración\", \"Cantidad solicitada\", \"Valor total\"]\n",
        "for col in columnas_numericas:\n",
        "    if col in df.columns:\n",
        "        df[col] = df[col].str.replace(\",\", \".\", regex=False)\n",
        "\n",
        "# 4. Normalizar fechas (yyyy-mm-dd) en columnas S, V, AA, AM\n",
        "columnas_fechas = [\"Fecha de solicitud\", \"Fecha orden compra\", \"Fecha de liberación\", \"Modificado el\"]\n",
        "for col in columnas_fechas:\n",
        "    if col in df.columns:\n",
        "        df[col] = pd.to_datetime(\n",
        "            df[col], errors=\"coerce\", dayfirst=True\n",
        "        ).dt.strftime(\"%Y-%m-%d\")\n",
        "\n",
        "# 5. Exportar a CSV con fecha de la máquina (zona horaria Bogotá)\n",
        "tz = pytz.timezone(\"America/Bogota\")\n",
        "fecha_hoy = datetime.now(tz).strftime(\"%d_%m_%Y\")\n",
        "nombre_salida = f\"ME5A_SOLPED_{fecha_hoy}.csv\"\n",
        "\n",
        "df.to_csv(nombre_salida, sep=\";\", index=False, encoding=\"utf-8\")\n",
        "\n",
        "# 6. Descargar el archivo\n",
        "files.download(nombre_salida)\n"
      ],
      "metadata": {
        "id": "w-PIQtLF3EG-"
      },
      "execution_count": null,
      "outputs": []
    }
  ],
  "metadata": {
    "colab": {
      "name": "Te damos la bienvenida a Colaboratory",
      "toc_visible": true,
      "provenance": [],
      "include_colab_link": true
    },
    "kernelspec": {
      "display_name": "Python 3",
      "name": "python3"
    }
  },
  "nbformat": 4,
  "nbformat_minor": 0
}
