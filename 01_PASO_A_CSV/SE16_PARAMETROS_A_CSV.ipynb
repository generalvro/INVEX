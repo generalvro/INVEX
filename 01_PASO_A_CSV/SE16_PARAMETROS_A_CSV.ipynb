{
  "cells": [
    {
      "cell_type": "markdown",
      "metadata": {
        "id": "view-in-github",
        "colab_type": "text"
      },
      "source": [
        "<a href=\"https://colab.research.google.com/github/generalvro/INVEX/blob/main/SE16_PARAMETROS_A_CSV.ipynb\" target=\"_parent\"><img src=\"https://colab.research.google.com/assets/colab-badge.svg\" alt=\"Open In Colab\"/></a>"
      ]
    },
    {
      "cell_type": "code",
      "source": [
        "import pandas as pd\n",
        "from datetime import datetime\n",
        "import pytz\n",
        "from google.colab import files\n",
        "\n",
        "# 1. Subir archivo desde el PC\n",
        "uploaded = files.upload()\n",
        "\n",
        "# Tomar el nombre del archivo cargado\n",
        "input_file = list(uploaded.keys())[0]\n",
        "\n",
        "# 2. Leer archivo Excel\n",
        "df = pd.read_excel(input_file, dtype=str)\n",
        "\n",
        "# 3. Normalizar Material (últimos 11 dígitos sin ceros a la izquierda)\n",
        "def transform_material(s):\n",
        "    s = '' if s is None else str(s).strip().replace('\\xa0', '')\n",
        "    last11 = s[-11:] if len(s) >= 11 else s\n",
        "    code = last11.lstrip('0')\n",
        "    return code if code != '' else '0'\n",
        "\n",
        "if \"Material\" in df.columns:\n",
        "    df[\"Material\"] = df[\"Material\"].apply(transform_material)\n",
        "\n",
        "# 4. Normalizar cantidades (quitar miles y cambiar coma decimal por punto)\n",
        "def clean_number(x):\n",
        "    if pd.isna(x):\n",
        "        return x\n",
        "    x = str(x).strip()\n",
        "    x = x.replace(\".\", \"\")     # quita separadores de miles\n",
        "    x = x.replace(\",\", \".\")    # cambia decimal\n",
        "    return x\n",
        "\n",
        "for col in [\"Punto pedido\", \"Stock máximo\"]:\n",
        "    if col in df.columns:\n",
        "        df[col] = df[col].apply(clean_number)\n",
        "\n",
        "# 5. Obtener fecha actual en hora de Colombia\n",
        "tz = pytz.timezone(\"America/Bogota\")\n",
        "fecha_col = datetime.now(tz).strftime(\"%d_%m_%Y\")\n",
        "\n",
        "# 6. Exportar con formato SE16_PARAMETROS_DD_MM_YYYY.CSV\n",
        "output_file = f\"SE16_PARAMETROS_{fecha_col}.CSV\"\n",
        "df.to_csv(output_file, index=False, sep=\";\", encoding=\"utf-8-sig\")\n",
        "\n",
        "# 7. Descargar el archivo procesado\n",
        "files.download(output_file)\n"
      ],
      "metadata": {
        "id": "jqWwCy_-Mhyg"
      },
      "execution_count": null,
      "outputs": []
    }
  ],
  "metadata": {
    "colab": {
      "name": "Te damos la bienvenida a Colaboratory",
      "toc_visible": true,
      "provenance": [],
      "include_colab_link": true
    },
    "kernelspec": {
      "display_name": "Python 3",
      "name": "python3"
    }
  },
  "nbformat": 4,
  "nbformat_minor": 0
}
