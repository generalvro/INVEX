{
  "cells": [
    {
      "cell_type": "markdown",
      "metadata": {
        "id": "view-in-github",
        "colab_type": "text"
      },
      "source": [
        "<a href=\"https://colab.research.google.com/github/generalvro/INVEX/blob/main/ME2M_ODB_A_CSV.ipynb\" target=\"_parent\"><img src=\"https://colab.research.google.com/assets/colab-badge.svg\" alt=\"Open In Colab\"/></a>"
      ]
    },
    {
      "cell_type": "code",
      "source": [
        "# 1. Subir archivo manualmente\n",
        "from google.colab import files\n",
        "import pandas as pd\n",
        "from datetime import datetime\n",
        "import pytz\n",
        "\n",
        "uploaded = files.upload()  # Aquí seleccionas tu .xlsx\n",
        "nombre_archivo = list(uploaded.keys())[0]\n",
        "\n",
        "# 2. Leer Excel como texto\n",
        "df = pd.read_excel(nombre_archivo, dtype=str)\n",
        "df = df.astype(str)  # asegurar que todas las columnas son texto\n",
        "\n",
        "# 3. Ajuste sencillo y robusto para \"Cantidad de pedido\" y \"Por entregar (cantidad)\"\n",
        "for col in [\"Cantidad de pedido\", \"Por entregar (cantidad)\"]:\n",
        "    if col in df.columns:\n",
        "        s = df[col].fillna('').astype(str)\n",
        "\n",
        "        # 3.1 si comienza con coma (\",432\") => \"0,432\"\n",
        "        s = s.str.replace(r'^\\s*,', '0,', regex=True)\n",
        "\n",
        "        # 3.2 Si es un número sin separadores que empieza por 0 y tiene hasta 4 dígitos (ej \"0432\")\n",
        "        #      lo interpretamos como 0.xxx -> \"0.432\"\n",
        "        s = s.str.replace(r'^0([0-9]{1,4})$', r'0.\\1', regex=True)\n",
        "\n",
        "        # 3.3 Si la celda contiene coma (formato SAP: miles con '.' y decimal con ','),\n",
        "        #      quitar todos los puntos (miles) y luego cambiar coma por punto.\n",
        "        mask_comma = s.str.contains(',', regex=False)\n",
        "        s_comma = s[mask_comma].str.replace('.', '', regex=False).str.replace(',', '.', regex=False)\n",
        "        s.loc[mask_comma] = s_comma\n",
        "\n",
        "        # 3.4 Si no tenía coma y tenía puntos (casos como \"0.432\" o \"432\" o \"1.234\"),\n",
        "        #      dejamos tal cual (no tocamos más para no romper decimales ya correctos).\n",
        "        df[col] = s\n",
        "\n",
        "# 4. Normalizar fechas a formato PostgreSQL (yyyy-mm-dd)\n",
        "for col in [\"Fecha documento\", \"Fecha de entrega\"]:\n",
        "    if col in df.columns:\n",
        "        df[col] = pd.to_datetime(\n",
        "            df[col], errors=\"coerce\", dayfirst=True\n",
        "        ).dt.strftime(\"%Y-%m-%d\")\n",
        "\n",
        "# 5. Crear columna \"CODIGO_PROVEEDOR\" con los primeros 7 caracteres de la primera columna (columna A)\n",
        "col_a = df.columns[0]\n",
        "df[\"CODIGO_PROVEEDOR\"] = df[col_a].str[:7]\n",
        "\n",
        "# 6. Exportar a CSV con fecha de la máquina (zona horaria Bogotá)\n",
        "tz = pytz.timezone(\"America/Bogota\")\n",
        "fecha_hoy = datetime.now(tz).strftime(\"%d_%m_%Y\")\n",
        "nombre_salida = f\"ME2M_ODB_{fecha_hoy}.csv\"\n",
        "\n",
        "df.to_csv(nombre_salida, sep=\";\", index=False, encoding=\"utf-8\")\n",
        "\n",
        "# 7. Descargar el archivo\n",
        "files.download(nombre_salida)\n"
      ],
      "metadata": {
        "id": "dFqoaRi1I0Bi"
      },
      "execution_count": null,
      "outputs": []
    }
  ],
  "metadata": {
    "colab": {
      "name": "Te damos la bienvenida a Colaboratory",
      "toc_visible": true,
      "provenance": [],
      "include_colab_link": true
    },
    "kernelspec": {
      "display_name": "Python 3",
      "name": "python3"
    }
  },
  "nbformat": 4,
  "nbformat_minor": 0
}
